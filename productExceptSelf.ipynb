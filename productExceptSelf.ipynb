{
 "cells": [
  {
   "cell_type": "code",
   "execution_count": 49,
   "metadata": {},
   "outputs": [
    {
     "data": {
      "text/plain": [
       "[24, 12, 8, 6]"
      ]
     },
     "execution_count": 49,
     "metadata": {},
     "output_type": "execute_result"
    }
   ],
   "source": [
    "from typing import List\n",
    "\n",
    "\n",
    "class Solution:\n",
    "\n",
    "    def productExceptSelf(self, nums: List[int]) -> List[int]:\n",
    "        nums_size = len(nums)\n",
    "        left = [1] * nums_size\n",
    "        right = [1] * nums_size\n",
    "        ans = [1] * nums_size\n",
    "\n",
    "        for i in range(1, nums_size):\n",
    "            left[i] = left[i - 1] * nums[i - 1]\n",
    "\n",
    "        for i in range(nums_size - 2, -1, -1):\n",
    "            right[i] = right[i + 1] * nums[i + 1]\n",
    "\n",
    "        for i in range(nums_size):\n",
    "            ans[i] = left[i] * right[i]\n",
    "        return ans\n",
    "\n",
    "\n",
    "x = Solution()\n",
    "x.productExceptSelf([1, 2, 3, 4])"
   ]
  },
  {
   "cell_type": "code",
   "execution_count": 36,
   "metadata": {},
   "outputs": [
    {
     "data": {
      "text/plain": [
       "[1, 1, 1, 1]"
      ]
     },
     "execution_count": 36,
     "metadata": {},
     "output_type": "execute_result"
    }
   ],
   "source": []
  }
 ],
 "metadata": {
  "kernelspec": {
   "display_name": "Python 3",
   "language": "python",
   "name": "python3"
  },
  "language_info": {
   "codemirror_mode": {
    "name": "ipython",
    "version": 3
   },
   "file_extension": ".py",
   "mimetype": "text/x-python",
   "name": "python",
   "nbconvert_exporter": "python",
   "pygments_lexer": "ipython3",
   "version": "3.8.10"
  }
 },
 "nbformat": 4,
 "nbformat_minor": 2
}
